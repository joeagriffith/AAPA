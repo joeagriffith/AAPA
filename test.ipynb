{
 "cells": [
  {
   "cell_type": "code",
   "execution_count": 2,
   "metadata": {},
   "outputs": [],
   "source": [
    "import torch\n",
    "import torch.nn as nn\n",
    "import torch.nn.functional as F"
   ]
  },
  {
   "cell_type": "code",
   "execution_count": 29,
   "metadata": {},
   "outputs": [],
   "source": [
    "layer = nn.Linear(10,10)\n",
    "x1 = torch.randn(16, 10)\n",
    "x2 = torch.randn(16, 10)\n",
    "y1 = F.normalize(layer(x1))\n",
    "y2 = F.normalize(layer(x2))\n",
    "\n",
    "loss1 = F.mse_loss(y1, y2, reduction='none').sum(dim=-1).mean()\n",
    "loss2 = (2 - 2 * (y1 * y2).sum(dim=-1)).mean()\n",
    "\n",
    "loss1.backward(retain_graph=True)\n",
    "grad1 = layer.weight.grad.clone()\n",
    "layer.weight.grad.zero_()\n",
    "loss2.backward()\n",
    "grad2 = layer.weight.grad.clone()\n",
    "\n",
    "assert torch.allclose(grad1, grad2)\n"
   ]
  },
  {
   "cell_type": "code",
   "execution_count": 14,
   "metadata": {},
   "outputs": [
    {
     "data": {
      "text/plain": [
       "(torch.Size([64, 4, 256]),\n",
       " tensor([1., 1., 0., 1., 1., 1., 1., 1., 1., 0., 1., 0., 0., 1., 1., 1.]))"
      ]
     },
     "execution_count": 14,
     "metadata": {},
     "output_type": "execute_result"
    }
   ],
   "source": [
    "import torch.nn as nn\n",
    "import torch\n",
    "from Utils.functional import create_sine_cosine_embeddings, random_masking\n",
    "\n",
    "x = torch.randn(64, 16, 256)\n",
    "x, mask = random_masking(x, 0.75)\n",
    "x.shape, mask[0]"
   ]
  },
  {
   "cell_type": "code",
   "execution_count": 12,
   "metadata": {},
   "outputs": [
    {
     "data": {
      "text/plain": [
       "torch.Size([100, 49, 256])"
      ]
     },
     "execution_count": 12,
     "metadata": {},
     "output_type": "execute_result"
    }
   ],
   "source": [
    "from Utils.functional import create_sine_cosine_embeddings, random_masking\n",
    "\n",
    "# pos_emb = nn.Parameter(create_sine_cosine_embeddings(7, 7, 256))\n",
    "\n",
    "pos_embedding = nn.Embedding(16, 256)  # learnable positional embeddings for the patches\n",
    "x = torch.randn(100, 49, 256)\n",
    "x = x + pos_emb\n",
    "x.shape"
   ]
  },
  {
   "cell_type": "code",
   "execution_count": 1,
   "metadata": {},
   "outputs": [
    {
     "name": "stderr",
     "output_type": "stream",
     "text": [
      "c:\\Users\\joeag\\Documents\\venvs\\ml-env\\Lib\\site-packages\\torchvision\\datapoints\\__init__.py:12: UserWarning: The torchvision.datapoints and torchvision.transforms.v2 namespaces are still Beta. While we do not expect major breaking changes, some APIs may still change according to user feedback. Please submit any feedback you may have in this issue: https://github.com/pytorch/vision/issues/6753, and you can also check out https://github.com/pytorch/vision/issues/7319 to learn more about the APIs that we suspect might involve future changes. You can silence this warning by calling torchvision.disable_beta_transforms_warning().\n",
      "  warnings.warn(_BETA_TRANSFORMS_WARNING)\n",
      "c:\\Users\\joeag\\Documents\\venvs\\ml-env\\Lib\\site-packages\\torchvision\\transforms\\v2\\__init__.py:54: UserWarning: The torchvision.datapoints and torchvision.transforms.v2 namespaces are still Beta. While we do not expect major breaking changes, some APIs may still change according to user feedback. Please submit any feedback you may have in this issue: https://github.com/pytorch/vision/issues/6753, and you can also check out https://github.com/pytorch/vision/issues/7319 to learn more about the APIs that we suspect might involve future changes. You can silence this warning by calling torchvision.disable_beta_transforms_warning().\n",
      "  warnings.warn(_BETA_TRANSFORMS_WARNING)\n"
     ]
    },
    {
     "data": {
      "text/plain": [
       "torch.Size([64, 1, 28, 28])"
      ]
     },
     "execution_count": 1,
     "metadata": {},
     "output_type": "execute_result"
    }
   ],
   "source": [
    "import torch\n",
    "from Methods.MAE.model import MAE\n",
    "\n",
    "\n",
    "model = MAE(1, True)\n",
    "\n",
    "x = torch.randn(64, 1, 28, 28)\n",
    "y, mask = model.reconstruct(x, mask_ratio=0.75)\n",
    "y.shape"
   ]
  }
 ],
 "metadata": {
  "kernelspec": {
   "display_name": "ml-env",
   "language": "python",
   "name": "python3"
  },
  "language_info": {
   "codemirror_mode": {
    "name": "ipython",
    "version": 3
   },
   "file_extension": ".py",
   "mimetype": "text/x-python",
   "name": "python",
   "nbconvert_exporter": "python",
   "pygments_lexer": "ipython3",
   "version": "3.11.4"
  }
 },
 "nbformat": 4,
 "nbformat_minor": 2
}
