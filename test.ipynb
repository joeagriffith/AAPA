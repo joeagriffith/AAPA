{
 "cells": [
  {
   "cell_type": "code",
   "execution_count": 23,
   "metadata": {},
   "outputs": [],
   "source": [
    "import torch\n",
    "import torch.nn as nn\n",
    "import torch.nn.functional as F\n",
    "from Utils.masking import MaskGenerator, visualise_mask\n",
    "import matplotlib.pyplot as plt\n",
    "import math"
   ]
  },
  {
   "cell_type": "code",
   "execution_count": 31,
   "metadata": {},
   "outputs": [
    {
     "name": "stdout",
     "output_type": "stream",
     "text": [
      "268 µs ± 26.5 µs per loop (mean ± std. dev. of 7 runs, 1,000 loops each)\n",
      "242 µs ± 10 µs per loop (mean ± std. dev. of 7 runs, 1,000 loops each)\n"
     ]
    }
   ],
   "source": [
    "import numpy as np\n",
    "\n",
    "data = torch.randn(100, 64, 1, 128, 128)\n",
    "rotations = torch.randn(100, 64, 3)\n",
    "B = 10\n",
    "def get_batch(data, rotations, numpy=True):\n",
    "    current_position = 0\n",
    "    if numpy:\n",
    "        rot_idxs = np.random.randint(0, 64, (B, 2))\n",
    "    else:\n",
    "        rot_idxs = torch.randint(0, 64, (B, 2))\n",
    "    imgs1 = data[current_position:current_position+B, rot_idxs[:, 0], :, :, :]\n",
    "    rots1 = rotations[current_position:current_position+B, rot_idxs[:, 0], :,]\n",
    "    imgs2 = data[current_position:current_position+B, rot_idxs[:, 1], :, :, :]\n",
    "    rots2 = rotations[current_position:current_position+B, rot_idxs[:, 1], :,]\n",
    "    return imgs1, imgs2, rots1, rots2\n",
    "\n",
    "# imgs1, imgs2, rots1, rots2 = get_batch(data, rotations)\n",
    "# imgs1.shape, imgs2.shape, rots1.shape, rots2.shape\n",
    "%timeit get_batch(data, rotations, numpy=True)\n",
    "%timeit get_batch(data, rotations, numpy=False)"
   ]
  },
  {
   "cell_type": "code",
   "execution_count": 4,
   "metadata": {},
   "outputs": [],
   "source": [
    "path = 'configs/test.yaml'\n",
    "import yaml\n",
    "\n",
    "with open(path, 'r') as file:\n",
    "    config = yaml.safe_load(file)\n"
   ]
  },
  {
   "cell_type": "code",
   "execution_count": 22,
   "metadata": {},
   "outputs": [
    {
     "name": "stdout",
     "output_type": "stream",
     "text": [
      "pos_embed torch.Size([1, 64, 512])\n",
      "cls_token torch.Size([1, 1, 512])\n",
      "registers torch.Size([1, 4, 512])\n",
      "layers.encoder_layer_0.ln_1.weight torch.Size([512])\n",
      "layers.encoder_layer_0.ln_1.bias torch.Size([512])\n",
      "layers.encoder_layer_0.self_attention.in_proj_weight torch.Size([1536, 512])\n",
      "layers.encoder_layer_0.self_attention.in_proj_bias torch.Size([1536])\n",
      "layers.encoder_layer_0.self_attention.out_proj.weight torch.Size([512, 512])\n",
      "layers.encoder_layer_0.self_attention.out_proj.bias torch.Size([512])\n",
      "layers.encoder_layer_0.ln_2.weight torch.Size([512])\n",
      "layers.encoder_layer_0.ln_2.bias torch.Size([512])\n",
      "layers.encoder_layer_0.mlp.0.weight torch.Size([1024, 512])\n",
      "layers.encoder_layer_0.mlp.0.bias torch.Size([1024])\n",
      "layers.encoder_layer_0.mlp.3.weight torch.Size([512, 1024])\n",
      "layers.encoder_layer_0.mlp.3.bias torch.Size([512])\n",
      "ln.weight torch.Size([512])\n",
      "ln.bias torch.Size([512])\n"
     ]
    }
   ],
   "source": [
    "from Methods.BYOL.model import BYOL\n",
    "model = BYOL(1, 'resnet18', 128)\n",
    "teacher = model.copy()\n",
    "for name, param in teacher.encoder.transformer_pool.named_parameters():\n",
    "    print(name, param.shape)"
   ]
  },
  {
   "cell_type": "code",
   "execution_count": 13,
   "metadata": {},
   "outputs": [
    {
     "name": "stdout",
     "output_type": "stream",
     "text": [
      "{'dataset': 'mnist', 'experiment': 'testing', 'trial': 'AE', 'model_type': 'AE', 'save': True, 'num_epochs': 2, 'warmup': 0}\n"
     ]
    },
    {
     "ename": "NameError",
     "evalue": "name 'mnist_cfg' is not defined",
     "output_type": "error",
     "traceback": [
      "\u001b[1;31m---------------------------------------------------------------------------\u001b[0m",
      "\u001b[1;31mNameError\u001b[0m                                 Traceback (most recent call last)",
      "Cell \u001b[1;32mIn[13], line 13\u001b[0m\n\u001b[0;32m     11\u001b[0m     cfgs\u001b[38;5;241m.\u001b[39mappend(modelnet10_cfg(\u001b[38;5;241m*\u001b[39m\u001b[38;5;241m*\u001b[39myaml_cfg))\n\u001b[0;32m     12\u001b[0m \u001b[38;5;28;01melif\u001b[39;00m yaml_cfg[\u001b[38;5;124m'\u001b[39m\u001b[38;5;124mdataset\u001b[39m\u001b[38;5;124m'\u001b[39m] \u001b[38;5;241m==\u001b[39m \u001b[38;5;124m'\u001b[39m\u001b[38;5;124mmnist\u001b[39m\u001b[38;5;124m'\u001b[39m:\n\u001b[1;32m---> 13\u001b[0m     cfgs\u001b[38;5;241m.\u001b[39mappend(\u001b[43mmnist_cfg\u001b[49m(\u001b[38;5;241m*\u001b[39m\u001b[38;5;241m*\u001b[39myaml_cfg))\n\u001b[0;32m     14\u001b[0m \u001b[38;5;28;01melse\u001b[39;00m:\n\u001b[0;32m     15\u001b[0m     \u001b[38;5;28;01mraise\u001b[39;00m \u001b[38;5;167;01mValueError\u001b[39;00m(\u001b[38;5;124mf\u001b[39m\u001b[38;5;124m'\u001b[39m\u001b[38;5;124mDataset \u001b[39m\u001b[38;5;132;01m{\u001b[39;00myaml_cfg[\u001b[38;5;124m\"\u001b[39m\u001b[38;5;124mdataset\u001b[39m\u001b[38;5;124m\"\u001b[39m]\u001b[38;5;132;01m}\u001b[39;00m\u001b[38;5;124m not supported\u001b[39m\u001b[38;5;124m'\u001b[39m)\n",
      "\u001b[1;31mNameError\u001b[0m: name 'mnist_cfg' is not defined"
     ]
    }
   ],
   "source": [
    "filepath = 'configs/test'\n",
    "if not filepath.endswith('.yaml'):\n",
    "    filepath += '.yaml'\n",
    "with open(filepath, 'r') as file:\n",
    "    yaml_cfgs = yaml.safe_load(file)\n",
    "\n",
    "cfgs = []\n",
    "for yaml_cfg in yaml_cfgs['cfgs']:\n",
    "    print(yaml_cfg)\n",
    "    if yaml_cfg['dataset'] == 'modelnet10':\n",
    "        cfgs.append(modelnet10_cfg(**yaml_cfg))\n",
    "    elif yaml_cfg['dataset'] == 'mnist':\n",
    "        cfgs.append(mnist_cfg(**yaml_cfg))\n",
    "    else:\n",
    "        raise ValueError(f'Dataset {yaml_cfg[\"dataset\"]} not supported')"
   ]
  },
  {
   "cell_type": "code",
   "execution_count": 10,
   "metadata": {},
   "outputs": [
    {
     "data": {
      "text/plain": [
       "{'experiment': 'testing',\n",
       " 'trial': 'AE',\n",
       " 'model_type': 'AE',\n",
       " 'save': True,\n",
       " 'num_epochs': 2,\n",
       " 'warmup': 0}"
      ]
     },
     "execution_count": 10,
     "metadata": {},
     "output_type": "execute_result"
    }
   ],
   "source": [
    "config['cfgs'][0]"
   ]
  }
 ],
 "metadata": {
  "kernelspec": {
   "display_name": "ml-env",
   "language": "python",
   "name": "python3"
  },
  "language_info": {
   "codemirror_mode": {
    "name": "ipython",
    "version": 3
   },
   "file_extension": ".py",
   "mimetype": "text/x-python",
   "name": "python",
   "nbconvert_exporter": "python",
   "pygments_lexer": "ipython3",
   "version": "3.11.4"
  }
 },
 "nbformat": 4,
 "nbformat_minor": 2
}
