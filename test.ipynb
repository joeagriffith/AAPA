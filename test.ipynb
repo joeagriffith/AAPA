{
 "cells": [
  {
   "cell_type": "code",
   "execution_count": 1,
   "metadata": {},
   "outputs": [],
   "source": [
    "import torch\n",
    "import torch.nn as nn\n",
    "import torch.nn.functional as F\n",
    "from Utils.masking import MaskGenerator, visualise_mask\n",
    "from Utils.dataset import PreloadedDataset\n",
    "import torchvision.datasets as datasets\n",
    "import matplotlib.pyplot as plt\n",
    "import torchvision.transforms as transforms\n",
    "import math\n",
    "from tqdm import tqdm\n",
    "import time"
   ]
  },
  {
   "cell_type": "code",
   "execution_count": 2,
   "metadata": {},
   "outputs": [
    {
     "name": "stderr",
     "output_type": "stream",
     "text": [
      "                                                        \r"
     ]
    }
   ],
   "source": [
    "from Models import AE, iGPA\n",
    "\n",
    "device = torch.device('cuda' if torch.cuda.is_available() else 'cpu')\n",
    "dataset = datasets.MNIST(root='../Datasets/', train=True, download=True, transform=transforms.ToTensor())\n",
    "train_set, val_set = torch.utils.data.random_split(dataset, [48000, 12000])\n",
    "train_set = PreloadedDataset.from_dataset(train_set, None, device)\n",
    "# train_set.transform = transforms.RandomAffine(degrees=15, translate=(0.1, 0.1), scale=(0.9, 1.1), shear=10)"
   ]
  },
  {
   "cell_type": "code",
   "execution_count": 3,
   "metadata": {},
   "outputs": [],
   "source": [
    "from Utils.nn.nets import Encoder28, Decoder28\n",
    "\n",
    "class EncBlock(nn.Module):\n",
    "    def __init__(self, in_channels, out_channels, kernel_size, stride, padding, bn=True, pool=False):\n",
    "        super().__init__()\n",
    "        self.conv = nn.Conv2d(in_channels, out_channels, kernel_size, stride, padding)\n",
    "        self.pool = nn.MaxPool2d(kernel_size=2, stride=2) if pool else nn.Identity()\n",
    "        self.bn = nn.BatchNorm2d(out_channels)\n",
    "        self.relu = nn.ReLU()\n",
    "        self.should_bn = bn\n",
    "    \n",
    "    def forward(self, x):\n",
    "        x = self.conv(x)\n",
    "        x = self.pool(x)\n",
    "        if self.should_bn:\n",
    "            x = self.bn(x)\n",
    "        x = self.relu(x)\n",
    "        return x\n",
    "    \n",
    "class DecBlock(nn.Module):\n",
    "    def __init__(self, in_channels, out_channels, kernel_size, stride, padding, upsample=False):\n",
    "        super().__init__()\n",
    "        self.convt = nn.ConvTranspose2d(in_channels, in_channels, kernel_size, stride, padding)\n",
    "        self.upsample = nn.Upsample(scale_factor=2) if upsample else nn.Identity()\n",
    "        self.conv = nn.Conv2d(in_channels, out_channels, 3, 1, 1)\n",
    "    \n",
    "    def forward(self, x):\n",
    "        x = self.convt(x)\n",
    "        x = self.upsample(x)\n",
    "        x = self.conv(x)\n",
    "        return x\n",
    "\n",
    "class mnist_cnn_encoder(nn.Module):\n",
    "    def __init__(self, num_features):\n",
    "        super().__init__()\n",
    "        self.enc_blocks = nn.ModuleList([\n",
    "            EncBlock(1, 32, 3, 1, 1, pool=True),\n",
    "            EncBlock(32, 64, 3, 1, 1, pool=True),\n",
    "            EncBlock(64, 128, 3, 1, 0),\n",
    "            EncBlock(128, 256, 3, 1, 0),\n",
    "            EncBlock(256, num_features, 3, 1, 0, bn=False),\n",
    "        ])\n",
    "    \n",
    "    def forward(self, x):\n",
    "        for block in self.enc_blocks:\n",
    "            x = block(x)\n",
    "        return x.flatten(1)\n",
    "\n",
    "class mnist_cnn_decoder(nn.Module):\n",
    "    def __init__(self, num_features):\n",
    "        super().__init__()\n",
    "        self.decoder = nn.Sequential(\n",
    "            nn.ConvTranspose2d(num_features, 256, 3, 1),\n",
    "            nn.ReLU(),\n",
    "\n",
    "            nn.ConvTranspose2d(256, 128, 3, 3),\n",
    "            nn.ReLU(),\n",
    "            \n",
    "            nn.ConvTranspose2d(128, 64, 3, 3),\n",
    "            nn.ReLU(),\n",
    "            \n",
    "            nn.ConvTranspose2d(64, 32, 2, 1),\n",
    "            nn.ReLU(),\n",
    "            nn.Conv2d(32, 1, 3, 1, 1),\n",
    "        )\n",
    "\n",
    "    def forward(self, z):\n",
    "        z = z.view(-1, 256, 1, 1)\n",
    "        return self.decoder(z)\n",
    "\n",
    "\n",
    "\n",
    "class HEPA(nn.Module):\n",
    "    def __init__(self, in_features, num_actions):\n",
    "        super().__init__()\n",
    "        self.in_features = in_features\n",
    "        self.num_actions = num_actions\n",
    "\n",
    "        self.num_features = 256\n",
    "        # self.encoder = mnist_cnn_encoder(self.num_features)\n",
    "        self.encoder = Encoder28(256)\n",
    "    \n",
    "        self.action_encoder = nn.Sequential(\n",
    "            nn.Linear(num_actions, 128),\n",
    "            nn.ReLU(),\n",
    "            nn.Linear(128, 128),\n",
    "            nn.ReLU(),\n",
    "        )\n",
    "\n",
    "        # NO BATCHNORM\n",
    "        self.transition = nn.Sequential(\n",
    "            nn.Linear(self.num_features + 128, 1024),\n",
    "            nn.ReLU(),\n",
    "            nn.Linear(1024, 512),\n",
    "            nn.ReLU(),\n",
    "            nn.Linear(512, self.num_features)\n",
    "        )\n",
    "\n",
    "        #for Mnist (-1, 1, 28, 28)\n",
    "        # self.decoder = mnist_cnn_decoder(self.num_features)\n",
    "        self.decoder = Decoder28(256)\n",
    "\n",
    "    def forward(self, x):\n",
    "        return self.encoder(x)\n",
    "    \n",
    "    def predict(self, x, a=None):\n",
    "        if a is None:\n",
    "            a = torch.zeros(x.shape[0], self.num_actions, device=x.device)\n",
    "        \n",
    "        z = self.encoder(x)\n",
    "        a = self.action_encoder(a)\n",
    "        z_pred = self.transition(torch.cat([z, a], dim=1))\n",
    "        pred = self.decoder(z_pred)\n",
    "        return pred\n",
    "    \n",
    "    def copy(self):\n",
    "        model = HEPA(self.in_features, self.num_actions, self.backbone).to(next(self.parameters()).device)\n",
    "        model.load_state_dict(self.state_dict())\n",
    "        return model"
   ]
  },
  {
   "cell_type": "code",
   "execution_count": 4,
   "metadata": {},
   "outputs": [],
   "source": [
    "from Utils.utils import get_optimiser\n",
    "from Utils.functional import cosine_schedule\n",
    "\n",
    "epochs = 250\n",
    "batch_size = 256\n",
    "dataloader = torch.utils.data.DataLoader(train_set, batch_size=batch_size, shuffle=True)\n",
    "start_lr = 3e-4\n",
    "end_lr = 1e-6\n",
    "warmup_lrs = torch.linspace(0, start_lr, 11)[1:]\n",
    "lrs = cosine_schedule(start_lr, end_lr, epochs-10)\n",
    "lrs = torch.cat([warmup_lrs, lrs])\n",
    "\n",
    "wds = cosine_schedule(0.04, 0.4, epochs)\n",
    "\n",
    "model = iGPA(1, 5).to(device)\n",
    "# model = HEPA(1, 5).to(device)\n",
    "# model = AE(1).to(device)\n",
    "opt_cfg = {\n",
    "    'optimiser': 'AdamW',\n",
    "    'betas': (0.9, 0.999),\n",
    "    'exclude_bias': True,\n",
    "    'exclude_bn': True\n",
    "}\n",
    "optimiser = get_optimiser(model, opt_cfg)"
   ]
  },
  {
   "cell_type": "code",
   "execution_count": 5,
   "metadata": {},
   "outputs": [],
   "source": [
    "import torchvision.transforms.v2.functional as F_v2\n",
    "\n",
    "def augment(images, p):\n",
    "    # Sample Action\n",
    "    act_p = torch.rand(5) # whether to apply each augmentation\n",
    "    angle = torch.rand(1).item() * 360 - 180 if act_p[0] < p else 0\n",
    "    translate_x = torch.randint(-8, 9, (1,)).item() if act_p[1] < p else 0\n",
    "    translate_y = torch.randint(-8, 9, (1,)).item() if act_p[2] < p else 0\n",
    "    scale = torch.rand(1).item() * 0.5 + 0.75 if act_p[3] < p else 1.0\n",
    "    shear = torch.rand(1).item() * 50 - 25 if act_p[4] < p else 0\n",
    "    images_aug = F_v2.affine(images, angle=angle, translate=(translate_x, translate_y), scale=scale, shear=shear)\n",
    "    action = torch.tensor([angle/180, translate_x/8, translate_y/8, (scale-1.0)/0.25, shear/25], dtype=torch.float32, device=images.device).unsqueeze(0).repeat(images.shape[0], 1)\n",
    "\n",
    "    return images_aug, action"
   ]
  },
  {
   "cell_type": "code",
   "execution_count": 6,
   "metadata": {},
   "outputs": [
    {
     "name": "stderr",
     "output_type": "stream",
     "text": [
      "                                                                                                  \r"
     ]
    },
    {
     "name": "stdout",
     "output_type": "stream",
     "text": [
      "Epoch 10/250 - Loss: 1.831953390481624\n"
     ]
    },
    {
     "name": "stderr",
     "output_type": "stream",
     "text": [
      "                                                                                                  \r"
     ]
    },
    {
     "name": "stdout",
     "output_type": "stream",
     "text": [
      "Epoch 20/250 - Loss: 1.1900731873639085\n"
     ]
    },
    {
     "name": "stderr",
     "output_type": "stream",
     "text": [
      "                                                                                                  \r"
     ]
    },
    {
     "ename": "KeyboardInterrupt",
     "evalue": "",
     "output_type": "error",
     "traceback": [
      "\u001b[1;31m---------------------------------------------------------------------------\u001b[0m",
      "\u001b[1;31mKeyboardInterrupt\u001b[0m                         Traceback (most recent call last)",
      "Cell \u001b[1;32mIn[6], line 24\u001b[0m\n\u001b[0;32m     21\u001b[0m     preds \u001b[38;5;241m=\u001b[39m model\u001b[38;5;241m.\u001b[39mpredict(images, action)\n\u001b[0;32m     22\u001b[0m     loss \u001b[38;5;241m=\u001b[39m F\u001b[38;5;241m.\u001b[39mmse_loss(preds, images_aug, reduction\u001b[38;5;241m=\u001b[39m\u001b[38;5;124m'\u001b[39m\u001b[38;5;124mnone\u001b[39m\u001b[38;5;124m'\u001b[39m)\u001b[38;5;241m.\u001b[39msum(\u001b[38;5;241m-\u001b[39m\u001b[38;5;241m1\u001b[39m)\u001b[38;5;241m.\u001b[39mmean()\n\u001b[1;32m---> 24\u001b[0m \u001b[43mloss\u001b[49m\u001b[38;5;241;43m.\u001b[39;49m\u001b[43mbackward\u001b[49m\u001b[43m(\u001b[49m\u001b[43m)\u001b[49m\n\u001b[0;32m     25\u001b[0m optimiser\u001b[38;5;241m.\u001b[39mstep()\n\u001b[0;32m     26\u001b[0m optimiser\u001b[38;5;241m.\u001b[39mzero_grad(set_to_none\u001b[38;5;241m=\u001b[39m\u001b[38;5;28;01mTrue\u001b[39;00m)\n",
      "File \u001b[1;32mc:\\Users\\joeag\\Documents\\venvs\\ml-env\\Lib\\site-packages\\torch\\_tensor.py:521\u001b[0m, in \u001b[0;36mTensor.backward\u001b[1;34m(self, gradient, retain_graph, create_graph, inputs)\u001b[0m\n\u001b[0;32m    511\u001b[0m \u001b[38;5;28;01mif\u001b[39;00m has_torch_function_unary(\u001b[38;5;28mself\u001b[39m):\n\u001b[0;32m    512\u001b[0m     \u001b[38;5;28;01mreturn\u001b[39;00m handle_torch_function(\n\u001b[0;32m    513\u001b[0m         Tensor\u001b[38;5;241m.\u001b[39mbackward,\n\u001b[0;32m    514\u001b[0m         (\u001b[38;5;28mself\u001b[39m,),\n\u001b[1;32m   (...)\u001b[0m\n\u001b[0;32m    519\u001b[0m         inputs\u001b[38;5;241m=\u001b[39minputs,\n\u001b[0;32m    520\u001b[0m     )\n\u001b[1;32m--> 521\u001b[0m \u001b[43mtorch\u001b[49m\u001b[38;5;241;43m.\u001b[39;49m\u001b[43mautograd\u001b[49m\u001b[38;5;241;43m.\u001b[39;49m\u001b[43mbackward\u001b[49m\u001b[43m(\u001b[49m\n\u001b[0;32m    522\u001b[0m \u001b[43m    \u001b[49m\u001b[38;5;28;43mself\u001b[39;49m\u001b[43m,\u001b[49m\u001b[43m \u001b[49m\u001b[43mgradient\u001b[49m\u001b[43m,\u001b[49m\u001b[43m \u001b[49m\u001b[43mretain_graph\u001b[49m\u001b[43m,\u001b[49m\u001b[43m \u001b[49m\u001b[43mcreate_graph\u001b[49m\u001b[43m,\u001b[49m\u001b[43m \u001b[49m\u001b[43minputs\u001b[49m\u001b[38;5;241;43m=\u001b[39;49m\u001b[43minputs\u001b[49m\n\u001b[0;32m    523\u001b[0m \u001b[43m\u001b[49m\u001b[43m)\u001b[49m\n",
      "File \u001b[1;32mc:\\Users\\joeag\\Documents\\venvs\\ml-env\\Lib\\site-packages\\torch\\autograd\\__init__.py:289\u001b[0m, in \u001b[0;36mbackward\u001b[1;34m(tensors, grad_tensors, retain_graph, create_graph, grad_variables, inputs)\u001b[0m\n\u001b[0;32m    284\u001b[0m     retain_graph \u001b[38;5;241m=\u001b[39m create_graph\n\u001b[0;32m    286\u001b[0m \u001b[38;5;66;03m# The reason we repeat the same comment below is that\u001b[39;00m\n\u001b[0;32m    287\u001b[0m \u001b[38;5;66;03m# some Python versions print out the first line of a multi-line function\u001b[39;00m\n\u001b[0;32m    288\u001b[0m \u001b[38;5;66;03m# calls in the traceback and some print out the last line\u001b[39;00m\n\u001b[1;32m--> 289\u001b[0m \u001b[43m_engine_run_backward\u001b[49m\u001b[43m(\u001b[49m\n\u001b[0;32m    290\u001b[0m \u001b[43m    \u001b[49m\u001b[43mtensors\u001b[49m\u001b[43m,\u001b[49m\n\u001b[0;32m    291\u001b[0m \u001b[43m    \u001b[49m\u001b[43mgrad_tensors_\u001b[49m\u001b[43m,\u001b[49m\n\u001b[0;32m    292\u001b[0m \u001b[43m    \u001b[49m\u001b[43mretain_graph\u001b[49m\u001b[43m,\u001b[49m\n\u001b[0;32m    293\u001b[0m \u001b[43m    \u001b[49m\u001b[43mcreate_graph\u001b[49m\u001b[43m,\u001b[49m\n\u001b[0;32m    294\u001b[0m \u001b[43m    \u001b[49m\u001b[43minputs\u001b[49m\u001b[43m,\u001b[49m\n\u001b[0;32m    295\u001b[0m \u001b[43m    \u001b[49m\u001b[43mallow_unreachable\u001b[49m\u001b[38;5;241;43m=\u001b[39;49m\u001b[38;5;28;43;01mTrue\u001b[39;49;00m\u001b[43m,\u001b[49m\n\u001b[0;32m    296\u001b[0m \u001b[43m    \u001b[49m\u001b[43maccumulate_grad\u001b[49m\u001b[38;5;241;43m=\u001b[39;49m\u001b[38;5;28;43;01mTrue\u001b[39;49;00m\u001b[43m,\u001b[49m\n\u001b[0;32m    297\u001b[0m \u001b[43m\u001b[49m\u001b[43m)\u001b[49m\n",
      "File \u001b[1;32mc:\\Users\\joeag\\Documents\\venvs\\ml-env\\Lib\\site-packages\\torch\\autograd\\graph.py:768\u001b[0m, in \u001b[0;36m_engine_run_backward\u001b[1;34m(t_outputs, *args, **kwargs)\u001b[0m\n\u001b[0;32m    766\u001b[0m     unregister_hooks \u001b[38;5;241m=\u001b[39m _register_logging_hooks_on_whole_graph(t_outputs)\n\u001b[0;32m    767\u001b[0m \u001b[38;5;28;01mtry\u001b[39;00m:\n\u001b[1;32m--> 768\u001b[0m     \u001b[38;5;28;01mreturn\u001b[39;00m \u001b[43mVariable\u001b[49m\u001b[38;5;241;43m.\u001b[39;49m\u001b[43m_execution_engine\u001b[49m\u001b[38;5;241;43m.\u001b[39;49m\u001b[43mrun_backward\u001b[49m\u001b[43m(\u001b[49m\u001b[43m  \u001b[49m\u001b[38;5;66;43;03m# Calls into the C++ engine to run the backward pass\u001b[39;49;00m\n\u001b[0;32m    769\u001b[0m \u001b[43m        \u001b[49m\u001b[43mt_outputs\u001b[49m\u001b[43m,\u001b[49m\u001b[43m \u001b[49m\u001b[38;5;241;43m*\u001b[39;49m\u001b[43margs\u001b[49m\u001b[43m,\u001b[49m\u001b[43m \u001b[49m\u001b[38;5;241;43m*\u001b[39;49m\u001b[38;5;241;43m*\u001b[39;49m\u001b[43mkwargs\u001b[49m\n\u001b[0;32m    770\u001b[0m \u001b[43m    \u001b[49m\u001b[43m)\u001b[49m  \u001b[38;5;66;03m# Calls into the C++ engine to run the backward pass\u001b[39;00m\n\u001b[0;32m    771\u001b[0m \u001b[38;5;28;01mfinally\u001b[39;00m:\n\u001b[0;32m    772\u001b[0m     \u001b[38;5;28;01mif\u001b[39;00m attach_logging_hooks:\n",
      "\u001b[1;31mKeyboardInterrupt\u001b[0m: "
     ]
    }
   ],
   "source": [
    "losses = []\n",
    "start_time = time.time()\n",
    "model.train()\n",
    "for e in range(epochs):\n",
    "    # train_set.apply_transform(batch_size=batch_size)\n",
    "    # Update lr and wd\n",
    "    for param_group in optimiser.param_groups:\n",
    "        param_group['lr'] = lrs[e].item()\n",
    "        if param_group['weight_decay'] != 0:\n",
    "            param_group['weight_decay'] = wds[e].item()\n",
    "    \n",
    "    loop = tqdm(dataloader, total=len(dataloader), leave=False)\n",
    "    loop.set_description(f'Epoch {e+1}/{epochs}')\n",
    "    if e > 0:\n",
    "        loop.set_postfix(loss=losses[-1], time_elapsed=time.strftime('%H:%M:%S', time.gmtime(time.time() - start_time)))\n",
    "\n",
    "    epoch_losses = []\n",
    "    for i, (images, _) in enumerate(loop):\n",
    "        images_aug, action = augment(images, 0.25)\n",
    "        with torch.autocast(device_type='cuda', dtype=torch.bfloat16):\n",
    "            preds = model.predict(images, action)\n",
    "            loss = F.mse_loss(preds, images_aug, reduction='none').sum(-1).mean()\n",
    "\n",
    "        loss.backward()\n",
    "        optimiser.step()\n",
    "        optimiser.zero_grad(set_to_none=True)\n",
    "        epoch_losses.append(loss.item())\n",
    "    loop.close()\n",
    "    losses.append(sum(epoch_losses) / len(epoch_losses))\n",
    "    \n",
    "    if (e+1) % 10 == 0:\n",
    "        print(f'Epoch {e+1}/{epochs} - Loss: {losses[-1]}')\n",
    "\n",
    "    if (e+1) == 50:\n",
    "        break\n",
    "\n",
    "plt.plot(losses)\n",
    "plt.show()"
   ]
  }
 ],
 "metadata": {
  "kernelspec": {
   "display_name": "ml-env",
   "language": "python",
   "name": "python3"
  },
  "language_info": {
   "codemirror_mode": {
    "name": "ipython",
    "version": 3
   },
   "file_extension": ".py",
   "mimetype": "text/x-python",
   "name": "python",
   "nbconvert_exporter": "python",
   "pygments_lexer": "ipython3",
   "version": "3.11.4"
  }
 },
 "nbformat": 4,
 "nbformat_minor": 2
}
