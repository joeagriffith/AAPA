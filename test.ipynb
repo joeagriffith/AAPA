{
 "cells": [
  {
   "cell_type": "code",
   "execution_count": 2,
   "metadata": {},
   "outputs": [],
   "source": [
    "import torch\n",
    "import torch.nn as nn\n",
    "import torch.nn.functional as F"
   ]
  },
  {
   "cell_type": "code",
   "execution_count": 29,
   "metadata": {},
   "outputs": [],
   "source": [
    "layer = nn.Linear(10,10)\n",
    "x1 = torch.randn(16, 10)\n",
    "x2 = torch.randn(16, 10)\n",
    "y1 = F.normalize(layer(x1))\n",
    "y2 = F.normalize(layer(x2))\n",
    "\n",
    "loss1 = F.mse_loss(y1, y2, reduction='none').sum(dim=-1).mean()\n",
    "loss2 = (2 - 2 * (y1 * y2).sum(dim=-1)).mean()\n",
    "\n",
    "loss1.backward(retain_graph=True)\n",
    "grad1 = layer.weight.grad.clone()\n",
    "layer.weight.grad.zero_()\n",
    "loss2.backward()\n",
    "grad2 = layer.weight.grad.clone()\n",
    "\n",
    "assert torch.allclose(grad1, grad2)\n"
   ]
  },
  {
   "cell_type": "code",
   "execution_count": null,
   "metadata": {},
   "outputs": [],
   "source": []
  }
 ],
 "metadata": {
  "kernelspec": {
   "display_name": "ml-env",
   "language": "python",
   "name": "python3"
  },
  "language_info": {
   "codemirror_mode": {
    "name": "ipython",
    "version": 3
   },
   "file_extension": ".py",
   "mimetype": "text/x-python",
   "name": "python",
   "nbconvert_exporter": "python",
   "pygments_lexer": "ipython3",
   "version": "3.11.4"
  }
 },
 "nbformat": 4,
 "nbformat_minor": 2
}
