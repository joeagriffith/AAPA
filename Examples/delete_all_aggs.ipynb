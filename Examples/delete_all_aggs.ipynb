{
 "cells": [
  {
   "cell_type": "code",
   "execution_count": 1,
   "metadata": {},
   "outputs": [],
   "source": [
    "import shutil\n",
    "from glob import glob\n",
    "import tensorboard_reducer as tbr\n",
    "import os"
   ]
  },
  {
   "cell_type": "code",
   "execution_count": 2,
   "metadata": {},
   "outputs": [
    {
     "name": "stdout",
     "output_type": "stream",
     "text": [
      "Path Examples/MNIST/out/logs/pc_vs_ae1/Untrained/encoder/ does not exist\n"
     ]
    }
   ],
   "source": [
    "# delete all reduction.csv files\n",
    "example = \"MNIST\"\n",
    "log_path = f\"Examples/{example}/out/logs/\"\n",
    "for experiment in os.listdir(log_path):\n",
    "    experiment_path = os.path.join(log_path, experiment) + \"/\"\n",
    "    for exp in os.listdir(experiment_path):\n",
    "        exp_path = os.path.join(experiment_path, exp) + \"/\"\n",
    "        for exp_type in ['classifier', 'encoder']:\n",
    "            exp_type_path = os.path.join(exp_path, exp_type) + \"/\"\n",
    "            if not os.path.exists(exp_type_path):\n",
    "                print(f\"Path {exp_type_path} does not exist\")\n",
    "            else:\n",
    "                for file in os.listdir(exp_type_path):\n",
    "                    if file.endswith(\"reduction.csv\"):\n",
    "                        os.remove(os.path.join(exp_type_path, file))"
   ]
  }
 ],
 "metadata": {
  "kernelspec": {
   "display_name": "ml-env",
   "language": "python",
   "name": "python3"
  },
  "language_info": {
   "codemirror_mode": {
    "name": "ipython",
    "version": 3
   },
   "file_extension": ".py",
   "mimetype": "text/x-python",
   "name": "python",
   "nbconvert_exporter": "python",
   "pygments_lexer": "ipython3",
   "version": "3.11.4"
  }
 },
 "nbformat": 4,
 "nbformat_minor": 2
}
