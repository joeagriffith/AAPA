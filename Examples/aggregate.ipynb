{
 "cells": [
  {
   "cell_type": "code",
   "execution_count": 1,
   "metadata": {},
   "outputs": [
    {
     "name": "stdout",
     "output_type": "stream",
     "text": [
      "Found 5 event dirs:\n",
      "Examples/MNIST/out/logs/AE_aug2/aug/encoder\\run_1\n",
      "Examples/MNIST/out/logs/AE_aug2/aug/encoder\\run_2\n",
      "Examples/MNIST/out/logs/AE_aug2/aug/encoder\\run_3\n",
      "Examples/MNIST/out/logs/AE_aug2/aug/encoder\\run_4\n",
      "Examples/MNIST/out/logs/AE_aug2/aug/encoder\\run_5\n"
     ]
    },
    {
     "name": "stderr",
     "output_type": "stream",
     "text": [
      "Loading runs: 100%|██████████| 5/5 [00:00<00:00, 56.81it/s]\n",
      "Reading tags: 100%|██████████| 5/5 [00:00<00:00, 415.42it/s]\n"
     ]
    },
    {
     "name": "stdout",
     "output_type": "stream",
     "text": [
      "Loaded 5 TensorBoard runs with 4 scalars and 250 steps each\n",
      "Reduced 4 scalars with 4 operations: (mean, min, max, std)\n",
      "Created new data file at 'Examples/MNIST/out/logs/AE_aug2/aug/encoder/reduction.csv'\n",
      "Reduction complete\n",
      "Path Examples/MNIST/out/logs/AE_aug2/aug/classifier/ does not exist\n",
      "Path Examples/MNIST/out/logs/AE_aug2/aug-n1/encoder/ does not exist\n",
      "Found 5 event dirs:\n",
      "Examples/MNIST/out/logs/AE_aug2/aug-n1/classifier\\run_1\n",
      "Examples/MNIST/out/logs/AE_aug2/aug-n1/classifier\\run_2\n",
      "Examples/MNIST/out/logs/AE_aug2/aug-n1/classifier\\run_3\n",
      "Examples/MNIST/out/logs/AE_aug2/aug-n1/classifier\\run_4\n",
      "Examples/MNIST/out/logs/AE_aug2/aug-n1/classifier\\run_5\n"
     ]
    },
    {
     "name": "stderr",
     "output_type": "stream",
     "text": [
      "Loading runs: 100%|██████████| 5/5 [00:00<00:00, 92.59it/s]\n",
      "Reading tags: 100%|██████████| 5/5 [00:00<00:00, 624.86it/s]\n"
     ]
    },
    {
     "name": "stdout",
     "output_type": "stream",
     "text": [
      "Loaded 5 TensorBoard runs with 5 scalars and 100 steps each\n",
      "Reduced 5 scalars with 4 operations: (mean, min, max, std)\n",
      "Created new data file at 'Examples/MNIST/out/logs/AE_aug2/aug-n1/classifier/reduction.csv'\n",
      "Reduction complete\n",
      "Path Examples/MNIST/out/logs/AE_aug2/aug-n10/encoder/ does not exist\n",
      "Found 5 event dirs:\n",
      "Examples/MNIST/out/logs/AE_aug2/aug-n10/classifier\\run_1\n",
      "Examples/MNIST/out/logs/AE_aug2/aug-n10/classifier\\run_2\n",
      "Examples/MNIST/out/logs/AE_aug2/aug-n10/classifier\\run_3\n",
      "Examples/MNIST/out/logs/AE_aug2/aug-n10/classifier\\run_4\n",
      "Examples/MNIST/out/logs/AE_aug2/aug-n10/classifier\\run_5\n"
     ]
    },
    {
     "name": "stderr",
     "output_type": "stream",
     "text": [
      "Loading runs: 100%|██████████| 5/5 [00:00<00:00, 95.23it/s]\n",
      "Reading tags: 100%|██████████| 5/5 [00:00<00:00, 555.58it/s]\n"
     ]
    },
    {
     "name": "stdout",
     "output_type": "stream",
     "text": [
      "Loaded 5 TensorBoard runs with 5 scalars and 100 steps each\n",
      "Reduced 5 scalars with 4 operations: (mean, min, max, std)\n",
      "Created new data file at 'Examples/MNIST/out/logs/AE_aug2/aug-n10/classifier/reduction.csv'\n",
      "Reduction complete\n",
      "Path Examples/MNIST/out/logs/AE_aug2/aug-n100/encoder/ does not exist\n",
      "Found 5 event dirs:\n",
      "Examples/MNIST/out/logs/AE_aug2/aug-n100/classifier\\run_1\n",
      "Examples/MNIST/out/logs/AE_aug2/aug-n100/classifier\\run_2\n",
      "Examples/MNIST/out/logs/AE_aug2/aug-n100/classifier\\run_3\n",
      "Examples/MNIST/out/logs/AE_aug2/aug-n100/classifier\\run_4\n",
      "Examples/MNIST/out/logs/AE_aug2/aug-n100/classifier\\run_5\n"
     ]
    },
    {
     "name": "stderr",
     "output_type": "stream",
     "text": [
      "Loading runs: 100%|██████████| 5/5 [00:00<00:00, 95.21it/s]\n",
      "Reading tags: 100%|██████████| 5/5 [00:00<00:00, 571.49it/s]\n"
     ]
    },
    {
     "name": "stdout",
     "output_type": "stream",
     "text": [
      "Loaded 5 TensorBoard runs with 5 scalars and 100 steps each\n",
      "Reduced 5 scalars with 4 operations: (mean, min, max, std)\n",
      "Created new data file at 'Examples/MNIST/out/logs/AE_aug2/aug-n100/classifier/reduction.csv'\n",
      "Reduction complete\n",
      "Path Examples/MNIST/out/logs/AE_aug2/aug-n1000/encoder/ does not exist\n",
      "Found 5 event dirs:\n",
      "Examples/MNIST/out/logs/AE_aug2/aug-n1000/classifier\\run_1\n",
      "Examples/MNIST/out/logs/AE_aug2/aug-n1000/classifier\\run_2\n",
      "Examples/MNIST/out/logs/AE_aug2/aug-n1000/classifier\\run_3\n",
      "Examples/MNIST/out/logs/AE_aug2/aug-n1000/classifier\\run_4\n",
      "Examples/MNIST/out/logs/AE_aug2/aug-n1000/classifier\\run_5\n"
     ]
    },
    {
     "name": "stderr",
     "output_type": "stream",
     "text": [
      "Loading runs: 100%|██████████| 5/5 [00:00<00:00, 65.85it/s]\n",
      "Reading tags: 100%|██████████| 5/5 [00:00<00:00, 624.97it/s]\n"
     ]
    },
    {
     "name": "stdout",
     "output_type": "stream",
     "text": [
      "Loaded 5 TensorBoard runs with 5 scalars and 100 steps each\n",
      "Reduced 5 scalars with 4 operations: (mean, min, max, std)\n",
      "Created new data file at 'Examples/MNIST/out/logs/AE_aug2/aug-n1000/classifier/reduction.csv'\n",
      "Reduction complete\n",
      "Found 5 event dirs:\n",
      "Examples/MNIST/out/logs/AE_aug2/no_aug/encoder\\run_1\n",
      "Examples/MNIST/out/logs/AE_aug2/no_aug/encoder\\run_2\n",
      "Examples/MNIST/out/logs/AE_aug2/no_aug/encoder\\run_3\n",
      "Examples/MNIST/out/logs/AE_aug2/no_aug/encoder\\run_4\n",
      "Examples/MNIST/out/logs/AE_aug2/no_aug/encoder\\run_5\n"
     ]
    },
    {
     "name": "stderr",
     "output_type": "stream",
     "text": [
      "Loading runs: 100%|██████████| 5/5 [00:00<00:00, 60.60it/s]\n",
      "Reading tags: 100%|██████████| 5/5 [00:00<00:00, 714.31it/s]\n"
     ]
    },
    {
     "name": "stdout",
     "output_type": "stream",
     "text": [
      "Loaded 5 TensorBoard runs with 4 scalars and 250 steps each\n",
      "Reduced 4 scalars with 4 operations: (mean, min, max, std)\n",
      "Created new data file at 'Examples/MNIST/out/logs/AE_aug2/no_aug/encoder/reduction.csv'\n",
      "Reduction complete\n",
      "Path Examples/MNIST/out/logs/AE_aug2/no_aug/classifier/ does not exist\n",
      "Path Examples/MNIST/out/logs/AE_aug2/no_aug-n1/encoder/ does not exist\n",
      "Found 5 event dirs:\n",
      "Examples/MNIST/out/logs/AE_aug2/no_aug-n1/classifier\\run_1\n",
      "Examples/MNIST/out/logs/AE_aug2/no_aug-n1/classifier\\run_2\n",
      "Examples/MNIST/out/logs/AE_aug2/no_aug-n1/classifier\\run_3\n",
      "Examples/MNIST/out/logs/AE_aug2/no_aug-n1/classifier\\run_4\n",
      "Examples/MNIST/out/logs/AE_aug2/no_aug-n1/classifier\\run_5\n"
     ]
    },
    {
     "name": "stderr",
     "output_type": "stream",
     "text": [
      "Loading runs: 100%|██████████| 5/5 [00:00<00:00, 98.04it/s]\n",
      "Reading tags: 100%|██████████| 5/5 [00:00<00:00, 624.78it/s]\n"
     ]
    },
    {
     "name": "stdout",
     "output_type": "stream",
     "text": [
      "Loaded 5 TensorBoard runs with 5 scalars and 100 steps each\n",
      "Reduced 5 scalars with 4 operations: (mean, min, max, std)\n",
      "Created new data file at 'Examples/MNIST/out/logs/AE_aug2/no_aug-n1/classifier/reduction.csv'\n",
      "Reduction complete\n",
      "Path Examples/MNIST/out/logs/AE_aug2/no_aug-n10/encoder/ does not exist\n",
      "Found 5 event dirs:\n",
      "Examples/MNIST/out/logs/AE_aug2/no_aug-n10/classifier\\run_1\n",
      "Examples/MNIST/out/logs/AE_aug2/no_aug-n10/classifier\\run_2\n",
      "Examples/MNIST/out/logs/AE_aug2/no_aug-n10/classifier\\run_3\n",
      "Examples/MNIST/out/logs/AE_aug2/no_aug-n10/classifier\\run_4\n",
      "Examples/MNIST/out/logs/AE_aug2/no_aug-n10/classifier\\run_5\n"
     ]
    },
    {
     "name": "stderr",
     "output_type": "stream",
     "text": [
      "Loading runs: 100%|██████████| 5/5 [00:00<00:00, 103.08it/s]\n",
      "Reading tags: 100%|██████████| 5/5 [00:00<00:00, 625.10it/s]\n"
     ]
    },
    {
     "name": "stdout",
     "output_type": "stream",
     "text": [
      "Loaded 5 TensorBoard runs with 5 scalars and 100 steps each\n",
      "Reduced 5 scalars with 4 operations: (mean, min, max, std)\n",
      "Created new data file at 'Examples/MNIST/out/logs/AE_aug2/no_aug-n10/classifier/reduction.csv'\n",
      "Reduction complete\n",
      "Path Examples/MNIST/out/logs/AE_aug2/no_aug-n100/encoder/ does not exist\n",
      "Found 5 event dirs:\n",
      "Examples/MNIST/out/logs/AE_aug2/no_aug-n100/classifier\\run_1\n",
      "Examples/MNIST/out/logs/AE_aug2/no_aug-n100/classifier\\run_2\n",
      "Examples/MNIST/out/logs/AE_aug2/no_aug-n100/classifier\\run_3\n",
      "Examples/MNIST/out/logs/AE_aug2/no_aug-n100/classifier\\run_4\n",
      "Examples/MNIST/out/logs/AE_aug2/no_aug-n100/classifier\\run_5\n"
     ]
    },
    {
     "name": "stderr",
     "output_type": "stream",
     "text": [
      "Loading runs: 100%|██████████| 5/5 [00:00<00:00, 99.00it/s]\n",
      "Reading tags: 100%|██████████| 5/5 [00:00<00:00, 624.99it/s]\n"
     ]
    },
    {
     "name": "stdout",
     "output_type": "stream",
     "text": [
      "Loaded 5 TensorBoard runs with 5 scalars and 100 steps each\n",
      "Reduced 5 scalars with 4 operations: (mean, min, max, std)\n",
      "Created new data file at 'Examples/MNIST/out/logs/AE_aug2/no_aug-n100/classifier/reduction.csv'\n",
      "Reduction complete\n",
      "Path Examples/MNIST/out/logs/AE_aug2/no_aug-n1000/encoder/ does not exist\n",
      "Found 5 event dirs:\n",
      "Examples/MNIST/out/logs/AE_aug2/no_aug-n1000/classifier\\run_1\n",
      "Examples/MNIST/out/logs/AE_aug2/no_aug-n1000/classifier\\run_2\n",
      "Examples/MNIST/out/logs/AE_aug2/no_aug-n1000/classifier\\run_3\n",
      "Examples/MNIST/out/logs/AE_aug2/no_aug-n1000/classifier\\run_4\n",
      "Examples/MNIST/out/logs/AE_aug2/no_aug-n1000/classifier\\run_5\n"
     ]
    },
    {
     "name": "stderr",
     "output_type": "stream",
     "text": [
      "Loading runs: 100%|██████████| 5/5 [00:00<00:00, 100.01it/s]\n",
      "Reading tags: 100%|██████████| 5/5 [00:00<00:00, 624.86it/s]"
     ]
    },
    {
     "name": "stdout",
     "output_type": "stream",
     "text": [
      "Loaded 5 TensorBoard runs with 5 scalars and 100 steps each\n",
      "Reduced 5 scalars with 4 operations: (mean, min, max, std)\n",
      "Created new data file at 'Examples/MNIST/out/logs/AE_aug2/no_aug-n1000/classifier/reduction.csv'\n",
      "Reduction complete\n",
      "Path Examples/MNIST/out/logs/mnist_linear_eval_n1/mse/classifier/ does not exist\n",
      "Path Examples/MNIST/out/logs/mnist_linear_eval_n1/none/encoder/ does not exist\n",
      "Path Examples/MNIST/out/logs/mnist_linear_eval_n1/normalised_mse/classifier/ does not exist\n",
      "Path Examples/MNIST/out/logs/mnist_linear_eval_n1/random/encoder/ does not exist\n",
      "Path Examples/MNIST/out/logs/mnist_linear_eval_n10/mse/classifier/ does not exist\n",
      "Path Examples/MNIST/out/logs/mnist_linear_eval_n10/none/encoder/ does not exist\n",
      "Path Examples/MNIST/out/logs/mnist_linear_eval_n10/normalised_mse/classifier/ does not exist\n",
      "Path Examples/MNIST/out/logs/mnist_linear_eval_n10/random/encoder/ does not exist\n",
      "Path Examples/MNIST/out/logs/mnist_linear_eval_n100/mse/classifier/ does not exist\n",
      "Path Examples/MNIST/out/logs/mnist_linear_eval_n100/none/encoder/ does not exist\n",
      "Path Examples/MNIST/out/logs/mnist_linear_eval_n100/normalised_mse/classifier/ does not exist\n",
      "Path Examples/MNIST/out/logs/mnist_linear_eval_n100/random/encoder/ does not exist\n",
      "Path Examples/MNIST/out/logs/mnist_linear_eval_n1000/none/encoder/ does not exist\n",
      "Path Examples/MNIST/out/logs/mnist_linear_eval_n1000/random/encoder/ does not exist\n"
     ]
    },
    {
     "name": "stderr",
     "output_type": "stream",
     "text": [
      "\n"
     ]
    }
   ],
   "source": [
    "import shutil\n",
    "from glob import glob\n",
    "import tensorboard_reducer as tbr\n",
    "import os\n",
    "\n",
    "example = \"MNIST\"\n",
    "log_path = f\"Examples/{example}/out/logs/\"\n",
    "for experiment in os.listdir(log_path):\n",
    "    experiment_path = log_path + experiment + \"/\"\n",
    "    for exp_id in os.listdir(experiment_path):\n",
    "        exp_id_path = experiment_path + exp_id + \"/\"\n",
    "        for model_type in ['encoder', 'classifier']:\n",
    "            # check if reduction already exists\n",
    "            if os.path.exists(exp_id_path + model_type + \"/reduction.csv\"):\n",
    "                continue\n",
    "\n",
    "            path = exp_id_path + model_type + \"/\"\n",
    "            # if path doesnt exist, skip\n",
    "            if not os.path.exists(path):\n",
    "                print(f\"Path {path} does not exist\")\n",
    "                continue\n",
    "            input_event_dirs = sorted(glob(path + \"*\"))\n",
    "            joined_dirs = \"\\n\".join(input_event_dirs)\n",
    "            print(f\"Found {len(input_event_dirs)} event dirs:\\n{joined_dirs}\")\n",
    "\n",
    "            csv_out_dir = path + 'reduction.csv'\n",
    "            overwrite = True\n",
    "            reduce_ops = (\"mean\", \"min\", \"max\", \"std\")\n",
    "            events_dict = tbr.load_tb_events(input_event_dirs, verbose=True)\n",
    "\n",
    "            reduced_events = tbr.reduce_events(events_dict, reduce_ops, verbose=True)\n",
    "\n",
    "            tbr.write_data_file(reduced_events, csv_out_dir, overwrite=overwrite, verbose=True)\n",
    "\n",
    "            print(\"Reduction complete\")"
   ]
  },
  {
   "cell_type": "code",
   "execution_count": null,
   "metadata": {},
   "outputs": [],
   "source": []
  }
 ],
 "metadata": {
  "kernelspec": {
   "display_name": "ml-env",
   "language": "python",
   "name": "python3"
  },
  "language_info": {
   "codemirror_mode": {
    "name": "ipython",
    "version": 3
   },
   "file_extension": ".py",
   "mimetype": "text/x-python",
   "name": "python",
   "nbconvert_exporter": "python",
   "pygments_lexer": "ipython3",
   "version": "3.11.4"
  }
 },
 "nbformat": 4,
 "nbformat_minor": 2
}
