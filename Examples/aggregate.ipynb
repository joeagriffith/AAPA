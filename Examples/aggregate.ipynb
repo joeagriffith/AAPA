{
 "cells": [
  {
   "cell_type": "code",
   "execution_count": 3,
   "metadata": {},
   "outputs": [
    {
     "name": "stdout",
     "output_type": "stream",
     "text": [
      "Path Examples/MNIST/out/logs/AE_aug2/aug/classifier/ does not exist\n",
      "Path Examples/MNIST/out/logs/AE_aug2/aug-n1/encoder/ does not exist\n",
      "Path Examples/MNIST/out/logs/AE_aug2/aug-n10/encoder/ does not exist\n",
      "Path Examples/MNIST/out/logs/AE_aug2/aug-n100/encoder/ does not exist\n",
      "Path Examples/MNIST/out/logs/AE_aug2/aug-n1000/encoder/ does not exist\n",
      "Path Examples/MNIST/out/logs/AE_aug2/no_aug/classifier/ does not exist\n",
      "Path Examples/MNIST/out/logs/AE_aug2/no_aug-mse2/classifier/ does not exist\n",
      "Path Examples/MNIST/out/logs/AE_aug2/no_aug-mse2-n1/encoder/ does not exist\n",
      "Path Examples/MNIST/out/logs/AE_aug2/no_aug-mse2-n10/encoder/ does not exist\n",
      "Path Examples/MNIST/out/logs/AE_aug2/no_aug-mse2-n100/encoder/ does not exist\n",
      "Path Examples/MNIST/out/logs/AE_aug2/no_aug-mse2-n1000/encoder/ does not exist\n",
      "Path Examples/MNIST/out/logs/AE_aug2/no_aug-n1/encoder/ does not exist\n",
      "Path Examples/MNIST/out/logs/AE_aug2/no_aug-n10/encoder/ does not exist\n",
      "Path Examples/MNIST/out/logs/AE_aug2/no_aug-n100/encoder/ does not exist\n",
      "Path Examples/MNIST/out/logs/AE_aug2/no_aug-n1000/encoder/ does not exist\n",
      "Path Examples/MNIST/out/logs/autocast/bfloat16-hepa0/classifier/ does not exist\n",
      "Path Examples/MNIST/out/logs/autocast/HEPA-0/classifier/ does not exist\n",
      "Path Examples/MNIST/out/logs/autocast/og/classifier/ does not exist\n",
      "Path Examples/MNIST/out/logs/autocast/og-n1/encoder/ does not exist\n",
      "Path Examples/MNIST/out/logs/autocast/og-n10/encoder/ does not exist\n",
      "Path Examples/MNIST/out/logs/autocast/og-n100/encoder/ does not exist\n",
      "Path Examples/MNIST/out/logs/autocast/og-n1000/encoder/ does not exist\n",
      "Found 5 event dirs:\n",
      "Examples/MNIST/out/logs/mnist_linear_eval_n1/BYOL/encoder\\run_1\n",
      "Examples/MNIST/out/logs/mnist_linear_eval_n1/BYOL/encoder\\run_2\n",
      "Examples/MNIST/out/logs/mnist_linear_eval_n1/BYOL/encoder\\run_3\n",
      "Examples/MNIST/out/logs/mnist_linear_eval_n1/BYOL/encoder\\run_4\n",
      "Examples/MNIST/out/logs/mnist_linear_eval_n1/BYOL/encoder\\run_5\n"
     ]
    },
    {
     "name": "stderr",
     "output_type": "stream",
     "text": [
      "Loading runs: 100%|██████████| 5/5 [00:00<00:00, 73.53it/s]\n",
      "Reading tags: 100%|██████████| 5/5 [00:00<00:00, 714.02it/s]\n"
     ]
    },
    {
     "name": "stdout",
     "output_type": "stream",
     "text": [
      "Loaded 5 TensorBoard runs with 4 scalars and 250 steps each\n",
      "Reduced 4 scalars with 4 operations: (mean, min, max, std)\n",
      "Created new data file at 'Examples/MNIST/out/logs/mnist_linear_eval_n1/BYOL/encoder/reduction.csv'\n",
      "Reduction complete\n",
      "Found 5 event dirs:\n",
      "Examples/MNIST/out/logs/mnist_linear_eval_n1/BYOL/classifier\\run_1\n",
      "Examples/MNIST/out/logs/mnist_linear_eval_n1/BYOL/classifier\\run_2\n",
      "Examples/MNIST/out/logs/mnist_linear_eval_n1/BYOL/classifier\\run_3\n",
      "Examples/MNIST/out/logs/mnist_linear_eval_n1/BYOL/classifier\\run_4\n",
      "Examples/MNIST/out/logs/mnist_linear_eval_n1/BYOL/classifier\\run_5\n"
     ]
    },
    {
     "name": "stderr",
     "output_type": "stream",
     "text": [
      "Loading runs: 100%|██████████| 5/5 [00:00<00:00, 153.82it/s]\n",
      "Reading tags: 100%|██████████| 5/5 [00:00<00:00, 555.48it/s]\n"
     ]
    },
    {
     "name": "stdout",
     "output_type": "stream",
     "text": [
      "Loaded 5 TensorBoard runs with 5 scalars and 100 steps each\n",
      "Reduced 5 scalars with 4 operations: (mean, min, max, std)\n",
      "Created new data file at 'Examples/MNIST/out/logs/mnist_linear_eval_n1/BYOL/classifier/reduction.csv'\n",
      "Reduction complete\n",
      "Path Examples/MNIST/out/logs/mnist_linear_eval_n1/mse/classifier/ does not exist\n",
      "Path Examples/MNIST/out/logs/mnist_linear_eval_n1/none/encoder/ does not exist\n",
      "Path Examples/MNIST/out/logs/mnist_linear_eval_n1/normalised_mse/classifier/ does not exist\n",
      "Path Examples/MNIST/out/logs/mnist_linear_eval_n1/random/encoder/ does not exist\n",
      "Found 5 event dirs:\n",
      "Examples/MNIST/out/logs/mnist_linear_eval_n10/BYOL/encoder\\run_1\n",
      "Examples/MNIST/out/logs/mnist_linear_eval_n10/BYOL/encoder\\run_2\n",
      "Examples/MNIST/out/logs/mnist_linear_eval_n10/BYOL/encoder\\run_3\n",
      "Examples/MNIST/out/logs/mnist_linear_eval_n10/BYOL/encoder\\run_4\n",
      "Examples/MNIST/out/logs/mnist_linear_eval_n10/BYOL/encoder\\run_5\n"
     ]
    },
    {
     "name": "stderr",
     "output_type": "stream",
     "text": [
      "Loading runs: 100%|██████████| 5/5 [00:00<00:00, 66.21it/s]\n",
      "Reading tags: 100%|██████████| 5/5 [00:00<00:00, 622.80it/s]\n"
     ]
    },
    {
     "name": "stdout",
     "output_type": "stream",
     "text": [
      "Loaded 5 TensorBoard runs with 4 scalars and 250 steps each\n",
      "Reduced 4 scalars with 4 operations: (mean, min, max, std)\n",
      "Created new data file at 'Examples/MNIST/out/logs/mnist_linear_eval_n10/BYOL/encoder/reduction.csv'\n",
      "Reduction complete\n",
      "Found 5 event dirs:\n",
      "Examples/MNIST/out/logs/mnist_linear_eval_n10/BYOL/classifier\\run_1\n",
      "Examples/MNIST/out/logs/mnist_linear_eval_n10/BYOL/classifier\\run_2\n",
      "Examples/MNIST/out/logs/mnist_linear_eval_n10/BYOL/classifier\\run_3\n",
      "Examples/MNIST/out/logs/mnist_linear_eval_n10/BYOL/classifier\\run_4\n",
      "Examples/MNIST/out/logs/mnist_linear_eval_n10/BYOL/classifier\\run_5\n"
     ]
    },
    {
     "name": "stderr",
     "output_type": "stream",
     "text": [
      "Loading runs: 100%|██████████| 5/5 [00:00<00:00, 151.51it/s]\n",
      "Reading tags: 100%|██████████| 5/5 [00:00<00:00, 625.05it/s]\n"
     ]
    },
    {
     "name": "stdout",
     "output_type": "stream",
     "text": [
      "Loaded 5 TensorBoard runs with 5 scalars and 100 steps each\n",
      "Reduced 5 scalars with 4 operations: (mean, min, max, std)\n",
      "Created new data file at 'Examples/MNIST/out/logs/mnist_linear_eval_n10/BYOL/classifier/reduction.csv'\n",
      "Reduction complete\n",
      "Path Examples/MNIST/out/logs/mnist_linear_eval_n10/mse/classifier/ does not exist\n",
      "Path Examples/MNIST/out/logs/mnist_linear_eval_n10/none/encoder/ does not exist\n",
      "Path Examples/MNIST/out/logs/mnist_linear_eval_n10/normalised_mse/classifier/ does not exist\n",
      "Path Examples/MNIST/out/logs/mnist_linear_eval_n10/random/encoder/ does not exist\n",
      "Found 5 event dirs:\n",
      "Examples/MNIST/out/logs/mnist_linear_eval_n100/BYOL/encoder\\run_1\n",
      "Examples/MNIST/out/logs/mnist_linear_eval_n100/BYOL/encoder\\run_2\n",
      "Examples/MNIST/out/logs/mnist_linear_eval_n100/BYOL/encoder\\run_3\n",
      "Examples/MNIST/out/logs/mnist_linear_eval_n100/BYOL/encoder\\run_4\n",
      "Examples/MNIST/out/logs/mnist_linear_eval_n100/BYOL/encoder\\run_5\n"
     ]
    },
    {
     "name": "stderr",
     "output_type": "stream",
     "text": [
      "Loading runs: 100%|██████████| 5/5 [00:00<00:00, 74.07it/s]\n",
      "Reading tags: 100%|██████████| 5/5 [00:00<00:00, 714.36it/s]\n"
     ]
    },
    {
     "name": "stdout",
     "output_type": "stream",
     "text": [
      "Loaded 5 TensorBoard runs with 4 scalars and 250 steps each\n",
      "Reduced 4 scalars with 4 operations: (mean, min, max, std)\n",
      "Created new data file at 'Examples/MNIST/out/logs/mnist_linear_eval_n100/BYOL/encoder/reduction.csv'\n",
      "Reduction complete\n",
      "Found 5 event dirs:\n",
      "Examples/MNIST/out/logs/mnist_linear_eval_n100/BYOL/classifier\\run_1\n",
      "Examples/MNIST/out/logs/mnist_linear_eval_n100/BYOL/classifier\\run_2\n",
      "Examples/MNIST/out/logs/mnist_linear_eval_n100/BYOL/classifier\\run_3\n",
      "Examples/MNIST/out/logs/mnist_linear_eval_n100/BYOL/classifier\\run_4\n",
      "Examples/MNIST/out/logs/mnist_linear_eval_n100/BYOL/classifier\\run_5\n"
     ]
    },
    {
     "name": "stderr",
     "output_type": "stream",
     "text": [
      "Loading runs: 100%|██████████| 5/5 [00:00<00:00, 149.19it/s]\n",
      "Reading tags: 100%|██████████| 5/5 [00:00<00:00, 625.01it/s]\n"
     ]
    },
    {
     "name": "stdout",
     "output_type": "stream",
     "text": [
      "Loaded 5 TensorBoard runs with 5 scalars and 100 steps each\n",
      "Reduced 5 scalars with 4 operations: (mean, min, max, std)\n",
      "Created new data file at 'Examples/MNIST/out/logs/mnist_linear_eval_n100/BYOL/classifier/reduction.csv'\n",
      "Reduction complete\n",
      "Path Examples/MNIST/out/logs/mnist_linear_eval_n100/mse/classifier/ does not exist\n",
      "Path Examples/MNIST/out/logs/mnist_linear_eval_n100/none/encoder/ does not exist\n",
      "Path Examples/MNIST/out/logs/mnist_linear_eval_n100/normalised_mse/classifier/ does not exist\n",
      "Path Examples/MNIST/out/logs/mnist_linear_eval_n100/random/encoder/ does not exist\n",
      "Found 5 event dirs:\n",
      "Examples/MNIST/out/logs/mnist_linear_eval_n1000/BYOL/encoder\\run_1\n",
      "Examples/MNIST/out/logs/mnist_linear_eval_n1000/BYOL/encoder\\run_2\n",
      "Examples/MNIST/out/logs/mnist_linear_eval_n1000/BYOL/encoder\\run_3\n",
      "Examples/MNIST/out/logs/mnist_linear_eval_n1000/BYOL/encoder\\run_4\n",
      "Examples/MNIST/out/logs/mnist_linear_eval_n1000/BYOL/encoder\\run_5\n"
     ]
    },
    {
     "name": "stderr",
     "output_type": "stream",
     "text": [
      "Loading runs: 100%|██████████| 5/5 [00:00<00:00, 52.35it/s]\n",
      "Reading tags: 100%|██████████| 5/5 [00:00<00:00, 714.14it/s]\n"
     ]
    },
    {
     "name": "stdout",
     "output_type": "stream",
     "text": [
      "Loaded 5 TensorBoard runs with 4 scalars and 250 steps each\n",
      "Reduced 4 scalars with 4 operations: (mean, min, max, std)\n",
      "Created new data file at 'Examples/MNIST/out/logs/mnist_linear_eval_n1000/BYOL/encoder/reduction.csv'\n",
      "Reduction complete\n",
      "Found 5 event dirs:\n",
      "Examples/MNIST/out/logs/mnist_linear_eval_n1000/BYOL/classifier\\run_1\n",
      "Examples/MNIST/out/logs/mnist_linear_eval_n1000/BYOL/classifier\\run_2\n",
      "Examples/MNIST/out/logs/mnist_linear_eval_n1000/BYOL/classifier\\run_3\n",
      "Examples/MNIST/out/logs/mnist_linear_eval_n1000/BYOL/classifier\\run_4\n",
      "Examples/MNIST/out/logs/mnist_linear_eval_n1000/BYOL/classifier\\run_5\n"
     ]
    },
    {
     "name": "stderr",
     "output_type": "stream",
     "text": [
      "Loading runs: 100%|██████████| 5/5 [00:00<00:00, 147.07it/s]\n",
      "Reading tags: 100%|██████████| 5/5 [00:00<00:00, 555.68it/s]"
     ]
    },
    {
     "name": "stdout",
     "output_type": "stream",
     "text": [
      "Loaded 5 TensorBoard runs with 5 scalars and 100 steps each\n",
      "Reduced 5 scalars with 4 operations: (mean, min, max, std)\n",
      "Created new data file at 'Examples/MNIST/out/logs/mnist_linear_eval_n1000/BYOL/classifier/reduction.csv'\n",
      "Reduction complete\n",
      "Path Examples/MNIST/out/logs/mnist_linear_eval_n1000/none/encoder/ does not exist\n",
      "Path Examples/MNIST/out/logs/mnist_linear_eval_n1000/random/encoder/ does not exist\n"
     ]
    },
    {
     "name": "stderr",
     "output_type": "stream",
     "text": [
      "\n"
     ]
    }
   ],
   "source": [
    "from glob import glob\n",
    "import tensorboard_reducer as tbr\n",
    "import os\n",
    "\n",
    "example = \"MNIST\"\n",
    "log_path = f\"Examples/{example}/out/logs/\"\n",
    "for experiment in os.listdir(log_path):\n",
    "    experiment_path = log_path + experiment + \"/\"\n",
    "    for exp_id in os.listdir(experiment_path):\n",
    "        exp_id_path = experiment_path + exp_id + \"/\"\n",
    "        for model_type in ['encoder', 'classifier']:\n",
    "            # check if reduction already exists\n",
    "            if os.path.exists(exp_id_path + model_type + \"/reduction.csv\"):\n",
    "                continue\n",
    "\n",
    "            path = exp_id_path + model_type + \"/\"\n",
    "            # if path doesnt exist, skip\n",
    "            if not os.path.exists(path):\n",
    "                print(f\"Path {path} does not exist\")\n",
    "                continue\n",
    "            input_event_dirs = sorted(glob(path + \"*\"))\n",
    "            joined_dirs = \"\\n\".join(input_event_dirs)\n",
    "            print(f\"Found {len(input_event_dirs)} event dirs:\\n{joined_dirs}\")\n",
    "\n",
    "            csv_out_dir = path + 'reduction.csv'\n",
    "            overwrite = True\n",
    "            reduce_ops = (\"mean\", \"min\", \"max\", \"std\")\n",
    "            events_dict = tbr.load_tb_events(input_event_dirs, verbose=True)\n",
    "\n",
    "            reduced_events = tbr.reduce_events(events_dict, reduce_ops, verbose=True)\n",
    "\n",
    "            tbr.write_data_file(reduced_events, csv_out_dir, overwrite=overwrite, verbose=True)\n",
    "\n",
    "            print(\"Reduction complete\")"
   ]
  },
  {
   "cell_type": "code",
   "execution_count": null,
   "metadata": {},
   "outputs": [],
   "source": []
  }
 ],
 "metadata": {
  "kernelspec": {
   "display_name": "ml-env",
   "language": "python",
   "name": "python3"
  },
  "language_info": {
   "codemirror_mode": {
    "name": "ipython",
    "version": 3
   },
   "file_extension": ".py",
   "mimetype": "text/x-python",
   "name": "python",
   "nbconvert_exporter": "python",
   "pygments_lexer": "ipython3",
   "version": "3.11.4"
  }
 },
 "nbformat": 4,
 "nbformat_minor": 2
}
