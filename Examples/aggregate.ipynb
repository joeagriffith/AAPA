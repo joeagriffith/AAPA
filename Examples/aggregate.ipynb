{
 "cells": [
  {
   "cell_type": "code",
   "execution_count": 1,
   "metadata": {},
   "outputs": [
    {
     "name": "stdout",
     "output_type": "stream",
     "text": [
      "Found 3 event dirs:\n",
      "Examples/MNIST/out/logs/byol/new_train/encoder\\run_1\n",
      "Examples/MNIST/out/logs/byol/new_train/encoder\\run_2\n",
      "Examples/MNIST/out/logs/byol/new_train/encoder\\run_3\n"
     ]
    },
    {
     "name": "stderr",
     "output_type": "stream",
     "text": [
      "Loading runs: 100%|██████████| 3/3 [00:00<00:00, 52.58it/s]\n",
      "Reading tags: 100%|██████████| 3/3 [00:00<00:00, 214.54it/s]\n"
     ]
    },
    {
     "name": "stdout",
     "output_type": "stream",
     "text": [
      "Loaded 3 TensorBoard runs with 8 scalars and 250 steps each\n",
      "Reduced 8 scalars with 4 operations: (mean, min, max, std)\n",
      "Created new data file at 'Examples/MNIST/out/logs/byol/new_train/encoder/reduction.csv'\n",
      "Reduction complete\n",
      "Path Examples/MNIST/out/logs/byol/new_train/classifier/ does not exist\n",
      "Found 3 event dirs:\n",
      "Examples/MNIST/out/logs/n1-byol/new_train/encoder\\run_1\n",
      "Examples/MNIST/out/logs/n1-byol/new_train/encoder\\run_2\n",
      "Examples/MNIST/out/logs/n1-byol/new_train/encoder\\run_3\n"
     ]
    },
    {
     "name": "stderr",
     "output_type": "stream",
     "text": [
      "Loading runs: 100%|██████████| 3/3 [00:00<00:00, 44.87it/s]\n",
      "Reading tags: 100%|██████████| 3/3 [00:00<00:00, 342.37it/s]\n"
     ]
    },
    {
     "name": "stdout",
     "output_type": "stream",
     "text": [
      "Loaded 3 TensorBoard runs with 8 scalars and 250 steps each\n",
      "Reduced 8 scalars with 4 operations: (mean, min, max, std)\n",
      "Created new data file at 'Examples/MNIST/out/logs/n1-byol/new_train/encoder/reduction.csv'\n",
      "Reduction complete\n",
      "Found 3 event dirs:\n",
      "Examples/MNIST/out/logs/n1-byol/new_train/classifier\\run_1\n",
      "Examples/MNIST/out/logs/n1-byol/new_train/classifier\\run_2\n",
      "Examples/MNIST/out/logs/n1-byol/new_train/classifier\\run_3\n"
     ]
    },
    {
     "name": "stderr",
     "output_type": "stream",
     "text": [
      "Loading runs: 100%|██████████| 3/3 [00:00<00:00, 129.76it/s]\n",
      "Reading tags: 100%|██████████| 3/3 [00:00<00:00, 544.88it/s]\n"
     ]
    },
    {
     "name": "stdout",
     "output_type": "stream",
     "text": [
      "Loaded 3 TensorBoard runs with 5 scalars and 100 steps each\n",
      "Reduced 5 scalars with 4 operations: (mean, min, max, std)\n",
      "Created new data file at 'Examples/MNIST/out/logs/n1-byol/new_train/classifier/reduction.csv'\n",
      "Reduction complete\n",
      "Found 3 event dirs:\n",
      "Examples/MNIST/out/logs/n10-byol/new_train/encoder\\run_1\n",
      "Examples/MNIST/out/logs/n10-byol/new_train/encoder\\run_2\n",
      "Examples/MNIST/out/logs/n10-byol/new_train/encoder\\run_3\n"
     ]
    },
    {
     "name": "stderr",
     "output_type": "stream",
     "text": [
      "Loading runs: 100%|██████████| 3/3 [00:00<00:00, 32.29it/s]\n",
      "Reading tags: 100%|██████████| 3/3 [00:00<00:00, 352.71it/s]\n"
     ]
    },
    {
     "name": "stdout",
     "output_type": "stream",
     "text": [
      "Loaded 3 TensorBoard runs with 8 scalars and 250 steps each\n",
      "Reduced 8 scalars with 4 operations: (mean, min, max, std)\n",
      "Created new data file at 'Examples/MNIST/out/logs/n10-byol/new_train/encoder/reduction.csv'\n",
      "Reduction complete\n",
      "Found 3 event dirs:\n",
      "Examples/MNIST/out/logs/n10-byol/new_train/classifier\\run_1\n",
      "Examples/MNIST/out/logs/n10-byol/new_train/classifier\\run_2\n",
      "Examples/MNIST/out/logs/n10-byol/new_train/classifier\\run_3\n"
     ]
    },
    {
     "name": "stderr",
     "output_type": "stream",
     "text": [
      "Loading runs: 100%|██████████| 3/3 [00:00<00:00, 122.20it/s]\n",
      "Reading tags: 100%|██████████| 3/3 [00:00<00:00, 546.51it/s]\n"
     ]
    },
    {
     "name": "stdout",
     "output_type": "stream",
     "text": [
      "Loaded 3 TensorBoard runs with 5 scalars and 100 steps each\n",
      "Reduced 5 scalars with 4 operations: (mean, min, max, std)\n",
      "Created new data file at 'Examples/MNIST/out/logs/n10-byol/new_train/classifier/reduction.csv'\n",
      "Reduction complete\n",
      "Found 3 event dirs:\n",
      "Examples/MNIST/out/logs/n100-byol/new_train/encoder\\run_1\n",
      "Examples/MNIST/out/logs/n100-byol/new_train/encoder\\run_2\n",
      "Examples/MNIST/out/logs/n100-byol/new_train/encoder\\run_3\n"
     ]
    },
    {
     "name": "stderr",
     "output_type": "stream",
     "text": [
      "Loading runs: 100%|██████████| 3/3 [00:00<00:00, 45.39it/s]\n",
      "Reading tags: 100%|██████████| 3/3 [00:00<00:00, 388.18it/s]\n"
     ]
    },
    {
     "name": "stdout",
     "output_type": "stream",
     "text": [
      "Loaded 3 TensorBoard runs with 8 scalars and 250 steps each\n",
      "Reduced 8 scalars with 4 operations: (mean, min, max, std)\n",
      "Created new data file at 'Examples/MNIST/out/logs/n100-byol/new_train/encoder/reduction.csv'\n",
      "Reduction complete\n",
      "Found 3 event dirs:\n",
      "Examples/MNIST/out/logs/n100-byol/new_train/classifier\\run_1\n",
      "Examples/MNIST/out/logs/n100-byol/new_train/classifier\\run_2\n",
      "Examples/MNIST/out/logs/n100-byol/new_train/classifier\\run_3\n"
     ]
    },
    {
     "name": "stderr",
     "output_type": "stream",
     "text": [
      "Loading runs: 100%|██████████| 3/3 [00:00<00:00, 128.62it/s]\n",
      "Reading tags: 100%|██████████| 3/3 [00:00<00:00, 600.30it/s]\n"
     ]
    },
    {
     "name": "stdout",
     "output_type": "stream",
     "text": [
      "Loaded 3 TensorBoard runs with 5 scalars and 100 steps each\n",
      "Reduced 5 scalars with 4 operations: (mean, min, max, std)\n",
      "Created new data file at 'Examples/MNIST/out/logs/n100-byol/new_train/classifier/reduction.csv'\n",
      "Reduction complete\n",
      "Found 3 event dirs:\n",
      "Examples/MNIST/out/logs/n1000-byol/new_train/encoder\\run_1\n",
      "Examples/MNIST/out/logs/n1000-byol/new_train/encoder\\run_2\n",
      "Examples/MNIST/out/logs/n1000-byol/new_train/encoder\\run_3\n"
     ]
    },
    {
     "name": "stderr",
     "output_type": "stream",
     "text": [
      "Loading runs: 100%|██████████| 3/3 [00:00<00:00, 44.79it/s]\n",
      "Reading tags: 100%|██████████| 3/3 [00:00<00:00, 332.41it/s]\n"
     ]
    },
    {
     "name": "stdout",
     "output_type": "stream",
     "text": [
      "Loaded 3 TensorBoard runs with 8 scalars and 250 steps each\n",
      "Reduced 8 scalars with 4 operations: (mean, min, max, std)\n",
      "Created new data file at 'Examples/MNIST/out/logs/n1000-byol/new_train/encoder/reduction.csv'\n",
      "Reduction complete\n",
      "Found 3 event dirs:\n",
      "Examples/MNIST/out/logs/n1000-byol/new_train/classifier\\run_1\n",
      "Examples/MNIST/out/logs/n1000-byol/new_train/classifier\\run_2\n",
      "Examples/MNIST/out/logs/n1000-byol/new_train/classifier\\run_3\n"
     ]
    },
    {
     "name": "stderr",
     "output_type": "stream",
     "text": [
      "Loading runs: 100%|██████████| 3/3 [00:00<00:00, 111.08it/s]\n",
      "Reading tags: 100%|██████████| 3/3 [00:00<00:00, 478.60it/s]"
     ]
    },
    {
     "name": "stdout",
     "output_type": "stream",
     "text": [
      "Loaded 3 TensorBoard runs with 5 scalars and 100 steps each\n",
      "Reduced 5 scalars with 4 operations: (mean, min, max, std)\n",
      "Created new data file at 'Examples/MNIST/out/logs/n1000-byol/new_train/classifier/reduction.csv'\n",
      "Reduction complete\n"
     ]
    },
    {
     "name": "stderr",
     "output_type": "stream",
     "text": [
      "\n"
     ]
    }
   ],
   "source": [
    "from glob import glob\n",
    "import tensorboard_reducer as tbr\n",
    "import os\n",
    "\n",
    "example = \"MNIST\"\n",
    "log_path = f\"Examples/{example}/out/logs/\"\n",
    "for experiment in os.listdir(log_path):\n",
    "    experiment_path = log_path + experiment + \"/\"\n",
    "    for exp_id in os.listdir(experiment_path):\n",
    "        exp_id_path = experiment_path + exp_id + \"/\"\n",
    "        for model_type in ['encoder', 'classifier']:\n",
    "            # check if reduction already exists\n",
    "            if os.path.exists(exp_id_path + model_type + \"/reduction.csv\"):\n",
    "                continue\n",
    "\n",
    "            path = exp_id_path + model_type + \"/\"\n",
    "            # if path doesnt exist, skip\n",
    "            if not os.path.exists(path):\n",
    "                print(f\"Path {path} does not exist\")\n",
    "                continue\n",
    "            input_event_dirs = sorted(glob(path + \"*\"))\n",
    "            joined_dirs = \"\\n\".join(input_event_dirs)\n",
    "            print(f\"Found {len(input_event_dirs)} event dirs:\\n{joined_dirs}\")\n",
    "\n",
    "            csv_out_dir = path + 'reduction.csv'\n",
    "            overwrite = True\n",
    "            reduce_ops = (\"mean\", \"min\", \"max\", \"std\")\n",
    "            events_dict = tbr.load_tb_events(input_event_dirs, verbose=True)\n",
    "\n",
    "            reduced_events = tbr.reduce_events(events_dict, reduce_ops, verbose=True)\n",
    "\n",
    "            tbr.write_data_file(reduced_events, csv_out_dir, overwrite=overwrite, verbose=True)\n",
    "\n",
    "            print(\"Reduction complete\")"
   ]
  }
 ],
 "metadata": {
  "kernelspec": {
   "display_name": "ml-env",
   "language": "python",
   "name": "python3"
  },
  "language_info": {
   "codemirror_mode": {
    "name": "ipython",
    "version": 3
   },
   "file_extension": ".py",
   "mimetype": "text/x-python",
   "name": "python",
   "nbconvert_exporter": "python",
   "pygments_lexer": "ipython3",
   "version": "3.11.4"
  }
 },
 "nbformat": 4,
 "nbformat_minor": 2
}
